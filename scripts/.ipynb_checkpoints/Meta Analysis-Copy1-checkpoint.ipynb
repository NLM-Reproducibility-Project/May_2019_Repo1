{
 "cells": [
  {
   "cell_type": "markdown",
   "metadata": {},
   "source": [
    "# Read Matrix Data\n",
    "Read in the gene expression data sets."
   ]
  },
  {
   "cell_type": "code",
   "execution_count": 3,
   "metadata": {},
   "outputs": [
    {
     "name": "stderr",
     "output_type": "stream",
     "text": [
      "'select()' returned 1:many mapping between keys and columns\n",
      "'select()' returned 1:many mapping between keys and columns\n",
      "'select()' returned 1:many mapping between keys and columns\n",
      "'select()' returned 1:many mapping between keys and columns\n",
      "'select()' returned 1:many mapping between keys and columns\n",
      "'select()' returned 1:many mapping between keys and columns\n"
     ]
    }
   ],
   "source": [
    "library(annotate)\n",
    "library(illuminaHumanv3.db)\n",
    "library(illuminaHumanv2.db)\n",
    "library(hgu133plus2.db)\n",
    "library(illuminaHumanv4.db)\n",
    "library(plyr)\n",
    "\n",
    "working.dir <- \"~/NLM_Reproducibility_Workshop/tb_and_arthritis/working\"\n",
    "setwd(working.dir)\n",
    "\n",
    "dat.v2 <- read.delim(\"GSE15573_series_matrix_networkanalyst.txt\")\n",
    "id.v2 <- select(illuminaHumanv2.db, as.character(dat.v2[2:nrow(dat.v2),1]),\n",
    "                c(\"SYMBOL\",\"ENTREZID\", \"GENENAME\"))\n",
    "\n",
    "dat.v3.1 <- read.delim(\"GSE19435_series_matrix_networkanalyst.txt\")\n",
    "id.v3.1 <- select(illuminaHumanv3.db, as.character(dat.v3.1[2:nrow(dat.v3.1),1]),\n",
    "                c(\"SYMBOL\",\"ENTREZID\", \"GENENAME\"))\n",
    "\n",
    "dat.v3.2 <- read.delim(\"GSE19444_series_matrix_networkanalyst.txt\")\n",
    "id.v3.2 <- select(illuminaHumanv3.db, as.character(dat.v3.2[2:nrow(dat.v3.2),1]),\n",
    "                  c(\"SYMBOL\",\"ENTREZID\", \"GENENAME\"))\n",
    "\n",
    "dat.v4 <- read.delim(\"GSE65517_series_matrix_networkanalyst.txt\")\n",
    "id.v4 <- select(illuminaHumanv4.db, as.character(dat.v4[2:nrow(dat.v4),1]),\n",
    "                c(\"SYMBOL\",\"ENTREZID\", \"GENENAME\"))\n",
    "\n",
    "dat.plus2 <- read.delim(\"GSE4588_series_matrix_networkanalyst.txt\")\n",
    "id.plus2 <- select(hgu133plus2.db, as.character(dat.plus2[2:nrow(dat.plus2),1]),\n",
    "                c(\"SYMBOL\",\"ENTREZID\", \"GENENAME\"))\n",
    "\n",
    "dat.plus2.2 <- read.delim(\"GSE54992_series_matrix_networkanalyst.txt\")\n",
    "id.plus2.2 <- select(hgu133plus2.db, as.character(dat.plus2.2[2:nrow(dat.plus2.2),1]),\n",
    "                c(\"SYMBOL\",\"ENTREZID\", \"GENENAME\"))\n",
    "\n",
    "\n",
    "colnames(dat.v2)[1]=colnames(id.v2)[1]\n",
    "dat.v2.all <- join(dat.v2,id.v2,by=\"PROBEID\")\n",
    "\n",
    "colnames(dat.v3.1)[1]=colnames(id.v3.1)[1]\n",
    "dat.v3.1.all <- join(dat.v3.1,id.v3.1,by=\"PROBEID\")\n",
    "\n",
    "colnames(dat.v3.2)[1]=colnames(id.v3.2)[1]\n",
    "dat.v3.2.all <- join(dat.v3.2,id.v3.2,by=\"PROBEID\")\n",
    "\n",
    "colnames(dat.v4)[1]=colnames(id.v4)[1]\n",
    "dat.v4.all <- join(dat.v4,id.v4,by=\"PROBEID\")\n",
    "\n",
    "colnames(dat.plus2)[1]=colnames(id.plus2)[1]\n",
    "dat.plus2.all <- join(dat.plus2,id.plus2,by=\"PROBEID\")\n",
    "\n",
    "colnames(dat.plus2.2)[1]=colnames(id.plus2.2)[1]\n",
    "dat.plus2.2.all <- join(dat.plus2.2,id.plus2.2,by=\"PROBEID\")"
   ]
  },
  {
   "cell_type": "markdown",
   "metadata": {},
   "source": [
    "# Sample Filtering\n",
    "The paper used some inclusion criteria to select samples from each study. Samples without class labels are thus removed from further analyses."
   ]
  },
  {
   "cell_type": "code",
   "execution_count": 89,
   "metadata": {},
   "outputs": [
    {
     "name": "stdout",
     "output_type": "stream",
     "text": [
      "Removing 0 samples.\n",
      "Removing 14 samples.\n",
      "Removing 20 samples.\n",
      "Removing 7 samples.\n",
      "Removing 15 samples.\n",
      "Removing 24 samples.\n"
     ]
    }
   ],
   "source": [
    "datasets <- list(dat.v2.all,dat.v3.1.all,dat.v3.2.all,dat.v4.all,dat.plus2.all,dat.plus2.2.all)\n",
    "for (i in 1:length(datasets)) {\n",
    "    dataset <- datasets[[i]]\n",
    "    dataset[1,(ncol(dataset)-2):ncol(dataset)] <- \"Metadata\"\n",
    "    cat(\"Removing\",sum(is.na(dataset[1,])),\"samples.\\n\")\n",
    "    datasets[[i]] <- dataset[,!is.na(dataset[1,])]  \n",
    "}"
   ]
  },
  {
   "cell_type": "markdown",
   "metadata": {},
   "source": [
    "# Convert into gene-based matrices\n",
    "Remove rows without gene mapping. Merge rows mapping to the same gene using the median values."
   ]
  },
  {
   "cell_type": "code",
   "execution_count": 90,
   "metadata": {},
   "outputs": [
    {
     "name": "stdout",
     "output_type": "stream",
     "text": [
      "Number of rows without gene symbols: 23334 \n",
      "From 50281 rows to 19718 rows\n",
      "Number of rows without gene symbols: 18174 \n",
      "From 50954 rows to 19933 rows\n",
      "Number of rows without gene symbols: 18174 \n",
      "From 50954 rows to 19933 rows\n",
      "Number of rows without gene symbols: 11606 \n",
      "From 50605 rows to 21625 rows\n",
      "Number of rows without gene symbols: 10334 \n",
      "From 58364 rows to 22012 rows\n",
      "Number of rows without gene symbols: 10334 \n",
      "From 58364 rows to 22012 rows\n"
     ]
    }
   ],
   "source": [
    "dataset.class <- data.frame()\n",
    "for (i in 1:length(datasets)) {\n",
    "    dataset <- datasets[[i]]\n",
    "    dataset.class <- rbind(dataset.class,t(dataset[1,-c(1,(ncol(dataset)-2):ncol(dataset)),drop=F]))\n",
    "    dataset <- dataset[-1,]\n",
    "    cat(\"Number of rows without gene symbols:\",sum(is.na(dataset$SYMBOL)),\"\\n\")\n",
    "    dataset <- subset(dataset,!is.na(dataset$SYMBOL))\n",
    "    dataset.expr <- apply(dataset[,-c(1,(ncol(dataset)-2):ncol(dataset))],2,as.numeric)\n",
    "    #print(head(dataset.expr))\n",
    "    dataset <- aggregate(dataset.expr,\n",
    "                         list(dataset$SYMBOL),median)\n",
    "    rownames(dataset) <- dataset$Group.1\n",
    "    cat(\"From\",nrow(datasets[[i]]),\"rows to\",nrow(dataset),\"rows\\n\")\n",
    "    datasets[[i]] <- dataset\n",
    "}"
   ]
  },
  {
   "cell_type": "markdown",
   "metadata": {},
   "source": [
    "# Merge datasets\n",
    "Merge all studies into one, keeping only the genes that appear in all studies"
   ]
  },
  {
   "cell_type": "code",
   "execution_count": 108,
   "metadata": {
    "scrolled": true
   },
   "outputs": [
    {
     "name": "stdout",
     "output_type": "stream",
     "text": [
      "Number of common genes: 18205 \n",
      "6.413344 : 15.88771 \n",
      "-9.965784 : 15.52916 \n",
      "-9.965784 : 15.75623 \n",
      "-9.965784 : 14.63469 \n",
      "-9.965784 : 15.19165 \n",
      "0 : 16.5385 \n"
     ]
    }
   ],
   "source": [
    "common.genes <- unlist(sapply(datasets,rownames))\n",
    "common.genes <- table(common.genes)\n",
    "common.genes <- names(common.genes)[common.genes == length(datasets)]\n",
    "cat(\"Number of common genes:\",length(common.genes),\"\\n\")\n",
    "merged.dataset <- data.frame()\n",
    "for (i in 1:length(datasets)) {\n",
    "    dataset <- datasets[[i]]\n",
    "    if (max(dataset[,-1]) > 100) {\n",
    "        tmp <- dataset[,-1]\n",
    "        tmp[tmp <  0] <- 0\n",
    "        dataset[,-1] <- log2(tmp+0.001)\n",
    "    }\n",
    "    cat(min(dataset[,-1]),\":\",max(dataset[,-1]),\"\\n\")\n",
    "    merged.dataset <- rbind(merged.dataset,t(dataset[common.genes,]))\n",
    "}\n",
    "merged.dataset <- cbind(dataset.class,merged.dataset[rownames(dataset.class),])\n",
    "colnames(merged.dataset)[1] <- \"#CLASS\"  \n",
    "write.table(t(merged.dataset),file = \"../data/merged.dataset.txt\",sep=\"\\t\",quote = F,row.names = T,col.names = T)"
   ]
  },
  {
   "cell_type": "code",
   "execution_count": 104,
   "metadata": {},
   "outputs": [
    {
     "data": {
      "text/html": [
       "<table>\n",
       "<caption>A data.frame: 6 × 7</caption>\n",
       "<thead>\n",
       "\t<tr><th></th><th scope=col>Group.1</th><th scope=col>GSM1599181</th><th scope=col>GSM1599182</th><th scope=col>GSM1599183</th><th scope=col>GSM1599187</th><th scope=col>GSM1599188</th><th scope=col>GSM1599189</th></tr>\n",
       "\t<tr><th></th><th scope=col>&lt;chr&gt;</th><th scope=col>&lt;dbl&gt;</th><th scope=col>&lt;dbl&gt;</th><th scope=col>&lt;dbl&gt;</th><th scope=col>&lt;dbl&gt;</th><th scope=col>&lt;dbl&gt;</th><th scope=col>&lt;dbl&gt;</th></tr>\n",
       "</thead>\n",
       "<tbody>\n",
       "\t<tr><th scope=row>A1BG-AS1</th><td>A1BG-AS1</td><td>-13.812500</td><td>-3.020833</td><td>-3.770833</td><td>-4.0208335</td><td>-2.1875000</td><td>-2.937500</td></tr>\n",
       "\t<tr><th scope=row>A1CF</th><td>A1CF    </td><td>  2.937500</td><td> 4.062500</td><td> 4.562500</td><td>-0.6041667</td><td>-0.7291667</td><td> 7.354166</td></tr>\n",
       "\t<tr><th scope=row>A2M</th><td>A2M     </td><td> -2.187500</td><td>-0.062500</td><td> 2.937500</td><td> 2.9375000</td><td>-5.2708335</td><td> 0.687500</td></tr>\n",
       "\t<tr><th scope=row>A2ML1</th><td>A2ML1   </td><td>  2.145833</td><td>-6.145834</td><td>-3.812500</td><td>-2.1041667</td><td>-5.0625000</td><td>-3.020833</td></tr>\n",
       "\t<tr><th scope=row>A4GALT</th><td>A4GALT  </td><td>  1.229167</td><td>-2.312500</td><td>-5.562500</td><td>-3.2708333</td><td>-8.8125000</td><td>-4.104166</td></tr>\n",
       "\t<tr><th scope=row>A4GNT</th><td>A4GNT   </td><td>  8.020833</td><td>12.937500</td><td> 4.562500</td><td> 8.1041670</td><td> 8.1458330</td><td>17.937500</td></tr>\n",
       "</tbody>\n",
       "</table>\n"
      ],
      "text/latex": [
       "A data.frame: 6 × 7\n",
       "\\begin{tabular}{r|lllllll}\n",
       "  & Group.1 & GSM1599181 & GSM1599182 & GSM1599183 & GSM1599187 & GSM1599188 & GSM1599189\\\\\n",
       "  & <chr> & <dbl> & <dbl> & <dbl> & <dbl> & <dbl> & <dbl>\\\\\n",
       "\\hline\n",
       "\tA1BG-AS1 & A1BG-AS1 & -13.812500 & -3.020833 & -3.770833 & -4.0208335 & -2.1875000 & -2.937500\\\\\n",
       "\tA1CF & A1CF     &   2.937500 &  4.062500 &  4.562500 & -0.6041667 & -0.7291667 &  7.354166\\\\\n",
       "\tA2M & A2M      &  -2.187500 & -0.062500 &  2.937500 &  2.9375000 & -5.2708335 &  0.687500\\\\\n",
       "\tA2ML1 & A2ML1    &   2.145833 & -6.145834 & -3.812500 & -2.1041667 & -5.0625000 & -3.020833\\\\\n",
       "\tA4GALT & A4GALT   &   1.229167 & -2.312500 & -5.562500 & -3.2708333 & -8.8125000 & -4.104166\\\\\n",
       "\tA4GNT & A4GNT    &   8.020833 & 12.937500 &  4.562500 &  8.1041670 &  8.1458330 & 17.937500\\\\\n",
       "\\end{tabular}\n"
      ],
      "text/markdown": [
       "\n",
       "A data.frame: 6 × 7\n",
       "\n",
       "| <!--/--> | Group.1 &lt;chr&gt; | GSM1599181 &lt;dbl&gt; | GSM1599182 &lt;dbl&gt; | GSM1599183 &lt;dbl&gt; | GSM1599187 &lt;dbl&gt; | GSM1599188 &lt;dbl&gt; | GSM1599189 &lt;dbl&gt; |\n",
       "|---|---|---|---|---|---|---|---|\n",
       "| A1BG-AS1 | A1BG-AS1 | -13.812500 | -3.020833 | -3.770833 | -4.0208335 | -2.1875000 | -2.937500 |\n",
       "| A1CF | A1CF     |   2.937500 |  4.062500 |  4.562500 | -0.6041667 | -0.7291667 |  7.354166 |\n",
       "| A2M | A2M      |  -2.187500 | -0.062500 |  2.937500 |  2.9375000 | -5.2708335 |  0.687500 |\n",
       "| A2ML1 | A2ML1    |   2.145833 | -6.145834 | -3.812500 | -2.1041667 | -5.0625000 | -3.020833 |\n",
       "| A4GALT | A4GALT   |   1.229167 | -2.312500 | -5.562500 | -3.2708333 | -8.8125000 | -4.104166 |\n",
       "| A4GNT | A4GNT    |   8.020833 | 12.937500 |  4.562500 |  8.1041670 |  8.1458330 | 17.937500 |\n",
       "\n"
      ],
      "text/plain": [
       "         Group.1  GSM1599181 GSM1599182 GSM1599183 GSM1599187 GSM1599188\n",
       "A1BG-AS1 A1BG-AS1 -13.812500 -3.020833  -3.770833  -4.0208335 -2.1875000\n",
       "A1CF     A1CF       2.937500  4.062500   4.562500  -0.6041667 -0.7291667\n",
       "A2M      A2M       -2.187500 -0.062500   2.937500   2.9375000 -5.2708335\n",
       "A2ML1    A2ML1      2.145833 -6.145834  -3.812500  -2.1041667 -5.0625000\n",
       "A4GALT   A4GALT     1.229167 -2.312500  -5.562500  -3.2708333 -8.8125000\n",
       "A4GNT    A4GNT      8.020833 12.937500   4.562500   8.1041670  8.1458330\n",
       "         GSM1599189\n",
       "A1BG-AS1 -2.937500 \n",
       "A1CF      7.354166 \n",
       "A2M       0.687500 \n",
       "A2ML1    -3.020833 \n",
       "A4GALT   -4.104166 \n",
       "A4GNT    17.937500 "
      ]
     },
     "metadata": {},
     "output_type": "display_data"
    }
   ],
   "source": [
    "head(datasets[[4]])"
   ]
  },
  {
   "cell_type": "code",
   "execution_count": 1,
   "metadata": {},
   "outputs": [
    {
     "name": "stderr",
     "output_type": "stream",
     "text": [
      "Installing package into ‘/home/ubuntu/R/x86_64-pc-linux-gnu-library/3.6’\n",
      "(as ‘lib’ is unspecified)\n",
      "Warning message:\n",
      "“dependencies ‘multtest’, ‘preprocessCore’, ‘GEOquery’, ‘GEOmetadb’, ‘biomaRt’ are not available”also installing the dependencies ‘httpuv’, ‘sourcetools’, ‘hexbin’, ‘R.oo’, ‘R.methodsS3’, ‘shiny’, ‘later’, ‘highr’, ‘markdown’, ‘xfun’, ‘gtools’, ‘gdata’, ‘caTools’, ‘ggrepel’, ‘ggsci’, ‘cowplot’, ‘ggsignif’, ‘polynom’, ‘plotly’, ‘R.utils’, ‘htmlwidgets’, ‘crosstalk’, ‘promises’, ‘knitr’, ‘tinytex’, ‘rmeta’, ‘Rmisc’, ‘gplots’, ‘RMySQL’, ‘data.table’, ‘ggpubr’, ‘ROCR’, ‘zoo’, ‘pracma’, ‘COCONUT’, ‘Metrics’, ‘manhattanly’, ‘snplist’, ‘DT’, ‘pheatmap’, ‘rmarkdown’, ‘HGNChelper’\n",
      "\n",
      "Warning message in install.packages(\"MetaIntegrator\"):\n",
      "“installation of package ‘RMySQL’ had non-zero exit status”Warning message in install.packages(\"MetaIntegrator\"):\n",
      "“installation of package ‘snplist’ had non-zero exit status”Warning message in install.packages(\"MetaIntegrator\"):\n",
      "“installation of package ‘MetaIntegrator’ had non-zero exit status”"
     ]
    }
   ],
   "source": [
    "install.packages(\"MetaIntegrator\")"
   ]
  },
  {
   "cell_type": "code",
   "execution_count": null,
   "metadata": {},
   "outputs": [],
   "source": []
  }
 ],
 "metadata": {
  "kernelspec": {
   "display_name": "R",
   "language": "R",
   "name": "ir"
  },
  "language_info": {
   "codemirror_mode": "r",
   "file_extension": ".r",
   "mimetype": "text/x-r-source",
   "name": "R",
   "pygments_lexer": "r",
   "version": "3.6.0"
  }
 },
 "nbformat": 4,
 "nbformat_minor": 2
}
