{
 "cells": [
  {
   "cell_type": "markdown",
   "metadata": {},
   "source": [
    "# Read Matrix Data\n",
    "Read in the gene expression data sets."
   ]
  },
  {
   "cell_type": "code",
   "execution_count": null,
   "metadata": {},
   "outputs": [],
   "source": [
    "## Download microarray matrix files from GEO\n",
    "\n",
    "setwd(\"~/NLM_Reproducibility_Workshop/tb_and_arthritis/data\")"
   ]
  },
  {
   "cell_type": "code",
   "execution_count": null,
   "metadata": {},
   "outputs": [],
   "source": [
    "url <- c(\"ftp://ftp.ncbi.nlm.nih.gov/geo/series/GSE54nnn/GSE54992/matrix/GSE54992_series_matrix.txt.gz\",\n",
    "        \"ftp://ftp.ncbi.nlm.nih.gov/geo/series/GSE19nnn/GSE19435/matrix/GSE19435_series_matrix.txt.gz\",\n",
    "        \"ftp://ftp.ncbi.nlm.nih.gov/geo/series/GSE15nnn/GSE15573/matrix/GSE15573_series_matrix.txt.gz\",\n",
    "        \"ftp://ftp.ncbi.nlm.nih.gov/geo/series/GSE19nnn/GSE19444/matrix/GSE19444_series_matrix.txt.gz\",\n",
    "        \"ftp://ftp.ncbi.nlm.nih.gov/geo/series/GSE19nnn/GSE19435/matrix/GSE19435_series_matrix.txt.gz\",\n",
    "        \"ftp://ftp.ncbi.nlm.nih.gov/geo/series/GSE65nnn/GSE65517/matrix/GSE65517_series_matrix.txt.gz\")"
   ]
  },
  {
   "cell_type": "code",
   "execution_count": null,
   "metadata": {},
   "outputs": [],
   "source": [
    "dest.file <- c(\"GSE54992_series_matrix.txt.gz\",\"GSE19435_series_matrix.txt.gz\",\"GSE15573_series_matrix.txt.gz\",\n",
    "              \"GSE19444_series_matrix.txt.gz\",\"GSE19435_series_matrix.txt.gz\",\"GSE65517_series_matrix.txt.gz\")\n",
    "\n",
    "for (i in 1:length(url)){\n",
    "utils::download.file(url[i], destfile=dest.file[i], mode=\"wb\") \n",
    "}"
   ]
  },
  {
   "cell_type": "code",
   "execution_count": null,
   "metadata": {},
   "outputs": [],
   "source": [
    "## Run perl script to reformat the matrix and filter out low quality samples\n",
    "## output *_series_matrix_networkanalyst.txt\n",
    "## input reformated matrices into NetworkAnalyst Website"
   ]
  },
  {
   "cell_type": "code",
   "execution_count": null,
   "metadata": {},
   "outputs": [],
   "source": [
    "## Meanwhile, read all matrices into R scripts below to analyze them by applying similar strategies."
   ]
  },
  {
   "cell_type": "code",
   "execution_count": null,
   "metadata": {},
   "outputs": [],
   "source": [
    "## Download and install different types of microarray annotation database files\n",
    "working.dir <- \"~/NLM_Reproducibility_Workshop/tb_and_arthritis/working\"\n",
    "setwd(working.dir)\n",
    "\n",
    "install.packages(\"BiocManager\")\n",
    "BiocManager::install(\"plyr\")\n",
    "BiocManager::install(\"annotate\")\n",
    "BiocManager::install(\"illuminaHumanv4.db\")\n",
    "BiocManager::install(\"hgu133plus2.db\")\n",
    "BiocManager::install(\"illuminaHumanv2.db\")\n",
    "BiocManager::install(\"illuminaHumanv3.db\")"
   ]
  },
  {
   "cell_type": "code",
   "execution_count": null,
   "metadata": {},
   "outputs": [],
   "source": [
    "library(annotate)\n",
    "library(illuminaHumanv3.db)\n",
    "library(illuminaHumanv2.db)\n",
    "library(hgu133plus2.db)\n",
    "library(illuminaHumanv4.db)\n",
    "library(plyr)"
   ]
  },
  {
   "cell_type": "code",
   "execution_count": 5,
   "metadata": {},
   "outputs": [
    {
     "name": "stderr",
     "output_type": "stream",
     "text": [
      "Loading required package: AnnotationDbi\n",
      "Loading required package: stats4\n",
      "Loading required package: BiocGenerics\n",
      "Loading required package: parallel\n",
      "\n",
      "Attaching package: ‘BiocGenerics’\n",
      "\n",
      "The following objects are masked from ‘package:parallel’:\n",
      "\n",
      "    clusterApply, clusterApplyLB, clusterCall, clusterEvalQ,\n",
      "    clusterExport, clusterMap, parApply, parCapply, parLapply,\n",
      "    parLapplyLB, parRapply, parSapply, parSapplyLB\n",
      "\n",
      "The following objects are masked from ‘package:stats’:\n",
      "\n",
      "    IQR, mad, sd, var, xtabs\n",
      "\n",
      "The following objects are masked from ‘package:base’:\n",
      "\n",
      "    anyDuplicated, append, as.data.frame, basename, cbind, colnames,\n",
      "    dirname, do.call, duplicated, eval, evalq, Filter, Find, get, grep,\n",
      "    grepl, intersect, is.unsorted, lapply, Map, mapply, match, mget,\n",
      "    order, paste, pmax, pmax.int, pmin, pmin.int, Position, rank,\n",
      "    rbind, Reduce, rownames, sapply, setdiff, sort, table, tapply,\n",
      "    union, unique, unsplit, which, which.max, which.min\n",
      "\n",
      "Loading required package: Biobase\n",
      "Welcome to Bioconductor\n",
      "\n",
      "    Vignettes contain introductory material; view with\n",
      "    'browseVignettes()'. To cite Bioconductor, see\n",
      "    'citation(\"Biobase\")', and for packages 'citation(\"pkgname\")'.\n",
      "\n",
      "Loading required package: IRanges\n",
      "Loading required package: S4Vectors\n",
      "\n",
      "Attaching package: ‘S4Vectors’\n",
      "\n",
      "The following object is masked from ‘package:base’:\n",
      "\n",
      "    expand.grid\n",
      "\n",
      "Loading required package: XML\n",
      "Loading required package: org.Hs.eg.db\n",
      "\n",
      "\n",
      "\n",
      "\n",
      "\n",
      "\n",
      "Attaching package: ‘plyr’\n",
      "\n",
      "The following object is masked from ‘package:IRanges’:\n",
      "\n",
      "    desc\n",
      "\n",
      "The following object is masked from ‘package:S4Vectors’:\n",
      "\n",
      "    rename\n",
      "\n",
      "'select()' returned 1:many mapping between keys and columns\n",
      "'select()' returned 1:many mapping between keys and columns\n",
      "'select()' returned 1:many mapping between keys and columns\n",
      "'select()' returned 1:many mapping between keys and columns\n",
      "'select()' returned 1:many mapping between keys and columns\n",
      "'select()' returned 1:many mapping between keys and columns\n"
     ]
    }
   ],
   "source": [
    "## read in each type of microarray annotation database\n",
    "## test one by one and make sure the annotation file match with the dataset\n",
    "## could loop them into a list object\n",
    "\n",
    "dat.v2 <- read.delim(\"GSE15573_series_matrix_networkanalyst.txt\")\n",
    "id.v2 <- select(illuminaHumanv2.db, as.character(dat.v2[2:nrow(dat.v2),1]),\n",
    "                c(\"SYMBOL\",\"ENTREZID\", \"GENENAME\"))\n",
    "\n",
    "dat.v3.1 <- read.delim(\"GSE19435_series_matrix_networkanalyst.txt\")\n",
    "id.v3.1 <- select(illuminaHumanv3.db, as.character(dat.v3.1[2:nrow(dat.v3.1),1]),\n",
    "                c(\"SYMBOL\",\"ENTREZID\", \"GENENAME\"))\n",
    "\n",
    "dat.v3.2 <- read.delim(\"GSE19444_series_matrix_networkanalyst.txt\")\n",
    "id.v3.2 <- select(illuminaHumanv3.db, as.character(dat.v3.2[2:nrow(dat.v3.2),1]),\n",
    "                  c(\"SYMBOL\",\"ENTREZID\", \"GENENAME\"))\n",
    "\n",
    "dat.v4 <- read.delim(\"GSE65517_series_matrix_networkanalyst.txt\")\n",
    "id.v4 <- select(illuminaHumanv4.db, as.character(dat.v4[2:nrow(dat.v4),1]),\n",
    "                c(\"SYMBOL\",\"ENTREZID\", \"GENENAME\"))\n",
    "\n",
    "dat.plus2 <- read.delim(\"GSE4588_series_matrix_networkanalyst.txt\")\n",
    "id.plus2 <- select(hgu133plus2.db, as.character(dat.plus2[2:nrow(dat.plus2),1]),\n",
    "                c(\"SYMBOL\",\"ENTREZID\", \"GENENAME\"))\n",
    "\n",
    "dat.plus2.2 <- read.delim(\"GSE54992_series_matrix_networkanalyst.txt\")\n",
    "id.plus2.2 <- select(hgu133plus2.db, as.character(dat.plus2.2[2:nrow(dat.plus2.2),1]),\n",
    "                c(\"SYMBOL\",\"ENTREZID\", \"GENENAME\"))\n",
    "\n",
    "\n",
    "colnames(dat.v2)[1]=colnames(id.v2)[1]\n",
    "dat.v2.all <- join(dat.v2,id.v2,by=\"PROBEID\")\n",
    "\n",
    "colnames(dat.v3.1)[1]=colnames(id.v3.1)[1]\n",
    "dat.v3.1.all <- join(dat.v3.1,id.v3.1,by=\"PROBEID\")\n",
    "\n",
    "colnames(dat.v3.2)[1]=colnames(id.v3.2)[1]\n",
    "dat.v3.2.all <- join(dat.v3.2,id.v3.2,by=\"PROBEID\")\n",
    "\n",
    "colnames(dat.v4)[1]=colnames(id.v4)[1]\n",
    "dat.v4.all <- join(dat.v4,id.v4,by=\"PROBEID\")\n",
    "\n",
    "colnames(dat.plus2)[1]=colnames(id.plus2)[1]\n",
    "dat.plus2.all <- join(dat.plus2,id.plus2,by=\"PROBEID\")\n",
    "\n",
    "colnames(dat.plus2.2)[1]=colnames(id.plus2.2)[1]\n",
    "dat.plus2.2.all <- join(dat.plus2.2,id.plus2.2,by=\"PROBEID\")"
   ]
  },
  {
   "cell_type": "markdown",
   "metadata": {},
   "source": [
    "# Sample Filtering\n",
    "The paper used some inclusion criteria to select samples from each study. Samples without class labels are thus removed from further analyses."
   ]
  },
  {
   "cell_type": "code",
   "execution_count": 6,
   "metadata": {},
   "outputs": [
    {
     "name": "stdout",
     "output_type": "stream",
     "text": [
      "Removing 0 samples.\n",
      "Removing 14 samples.\n",
      "Removing 20 samples.\n",
      "Removing 7 samples.\n",
      "Removing 15 samples.\n",
      "Removing 24 samples.\n"
     ]
    }
   ],
   "source": [
    "datasets <- list(dat.v2.all,dat.v3.1.all,dat.v3.2.all,dat.v4.all,dat.plus2.all,dat.plus2.2.all)\n",
    "for (i in 1:length(datasets)) {\n",
    "    dataset <- datasets[[i]]\n",
    "    dataset[1,(ncol(dataset)-2):ncol(dataset)] <- \"Metadata\"\n",
    "    cat(\"Removing\",sum(is.na(dataset[1,])),\"samples.\\n\")\n",
    "    datasets[[i]] <- dataset[,!is.na(dataset[1,])]  \n",
    "}"
   ]
  },
  {
   "cell_type": "markdown",
   "metadata": {},
   "source": [
    "# Convert into gene-based matrices\n",
    "Remove rows without gene mapping. Merge rows mapping to the same gene using the median values."
   ]
  },
  {
   "cell_type": "code",
   "execution_count": 7,
   "metadata": {},
   "outputs": [
    {
     "name": "stdout",
     "output_type": "stream",
     "text": [
      "Number of rows without gene symbols: 23334 \n",
      "From 50281 rows to 19718 rows\n",
      "Number of rows without gene symbols: 18174 \n",
      "From 50954 rows to 19933 rows\n",
      "Number of rows without gene symbols: 18174 \n",
      "From 50954 rows to 19933 rows\n",
      "Number of rows without gene symbols: 11606 \n",
      "From 50605 rows to 21625 rows\n",
      "Number of rows without gene symbols: 10334 \n",
      "From 58364 rows to 22012 rows\n",
      "Number of rows without gene symbols: 10334 \n",
      "From 58364 rows to 22012 rows\n"
     ]
    }
   ],
   "source": [
    "dataset.class <- data.frame()\n",
    "for (i in 1:length(datasets)) {\n",
    "    dataset <- datasets[[i]]\n",
    "    dataset.class <- rbind(dataset.class,t(dataset[1,-c(1,(ncol(dataset)-2):ncol(dataset)),drop=F]))\n",
    "    dataset <- dataset[-1,]\n",
    "    cat(\"Number of rows without gene symbols:\",sum(is.na(dataset$SYMBOL)),\"\\n\")\n",
    "    dataset <- subset(dataset,!is.na(dataset$SYMBOL))\n",
    "    dataset.expr <- apply(dataset[,-c(1,(ncol(dataset)-2):ncol(dataset))],2,as.numeric)\n",
    "    #print(head(dataset.expr))\n",
    "    dataset <- aggregate(dataset.expr,\n",
    "                         list(dataset$SYMBOL),median)\n",
    "    rownames(dataset) <- dataset$Group.1\n",
    "    cat(\"From\",nrow(datasets[[i]]),\"rows to\",nrow(dataset),\"rows\\n\")\n",
    "    datasets[[i]] <- dataset\n",
    "}"
   ]
  },
  {
   "cell_type": "markdown",
   "metadata": {},
   "source": [
    "# Merge datasets\n",
    "Merge all studies into one, keeping only the genes that appear in all studies"
   ]
  },
  {
   "cell_type": "code",
   "execution_count": 43,
   "metadata": {
    "scrolled": true
   },
   "outputs": [
    {
     "name": "stdout",
     "output_type": "stream",
     "text": [
      "Number of common genes: 18205 \n",
      "6.413344 : 15.88771 \n",
      "-9.965784 : 15.52916 \n",
      "-9.965784 : 15.75623 \n",
      "-9.965784 : 14.63469 \n",
      "-9.965784 : 15.19165 \n",
      "0 : 16.5385 \n"
     ]
    }
   ],
   "source": [
    "common.genes <- unlist(sapply(datasets,rownames))\n",
    "common.genes <- table(common.genes)\n",
    "common.genes <- names(common.genes)[common.genes == length(datasets)]\n",
    "cat(\"Number of common genes:\",length(common.genes),\"\\n\")\n",
    "merged.dataset <- data.frame()\n",
    "for (i in 1:length(datasets)) {\n",
    "    dataset <- datasets[[i]]\n",
    "    if (max(dataset[,-1]) > 100) {\n",
    "        tmp <- dataset[,-1]\n",
    "        tmp[tmp <  0] <- 0\n",
    "        dataset[,-1] <- log2(tmp+0.001)\n",
    "    }\n",
    "    cat(min(dataset[,-1]),\":\",max(dataset[,-1]),\"\\n\")\n",
    "    merged.dataset <- rbind(merged.dataset,t(dataset[common.genes,]))\n",
    "}\n",
    "merged.dataset <- cbind(dataset.class,merged.dataset[rownames(dataset.class),])\n",
    "colnames(merged.dataset)[1] <- \"#CLASS\"  \n",
    "write.table(t(merged.dataset),file = \"../data/merged.dataset.txt\",sep=\"\\t\",quote = F,row.names = T,col.names = T)"
   ]
  },
  {
   "cell_type": "code",
   "execution_count": 9,
   "metadata": {},
   "outputs": [
    {
     "data": {
      "text/html": [
       "<table>\n",
       "<caption>A data.frame: 6 × 7</caption>\n",
       "<thead>\n",
       "\t<tr><th></th><th scope=col>Group.1</th><th scope=col>GSM1599181</th><th scope=col>GSM1599182</th><th scope=col>GSM1599183</th><th scope=col>GSM1599187</th><th scope=col>GSM1599188</th><th scope=col>GSM1599189</th></tr>\n",
       "\t<tr><th></th><th scope=col>&lt;chr&gt;</th><th scope=col>&lt;dbl&gt;</th><th scope=col>&lt;dbl&gt;</th><th scope=col>&lt;dbl&gt;</th><th scope=col>&lt;dbl&gt;</th><th scope=col>&lt;dbl&gt;</th><th scope=col>&lt;dbl&gt;</th></tr>\n",
       "</thead>\n",
       "<tbody>\n",
       "\t<tr><th scope=row>A1BG-AS1</th><td>A1BG-AS1</td><td>-13.812500</td><td>-3.020833</td><td>-3.770833</td><td>-4.0208335</td><td>-2.1875000</td><td>-2.937500</td></tr>\n",
       "\t<tr><th scope=row>A1CF</th><td>A1CF    </td><td>  2.937500</td><td> 4.062500</td><td> 4.562500</td><td>-0.6041667</td><td>-0.7291667</td><td> 7.354166</td></tr>\n",
       "\t<tr><th scope=row>A2M</th><td>A2M     </td><td> -2.187500</td><td>-0.062500</td><td> 2.937500</td><td> 2.9375000</td><td>-5.2708335</td><td> 0.687500</td></tr>\n",
       "\t<tr><th scope=row>A2ML1</th><td>A2ML1   </td><td>  2.145833</td><td>-6.145834</td><td>-3.812500</td><td>-2.1041667</td><td>-5.0625000</td><td>-3.020833</td></tr>\n",
       "\t<tr><th scope=row>A4GALT</th><td>A4GALT  </td><td>  1.229167</td><td>-2.312500</td><td>-5.562500</td><td>-3.2708333</td><td>-8.8125000</td><td>-4.104166</td></tr>\n",
       "\t<tr><th scope=row>A4GNT</th><td>A4GNT   </td><td>  8.020833</td><td>12.937500</td><td> 4.562500</td><td> 8.1041670</td><td> 8.1458330</td><td>17.937500</td></tr>\n",
       "</tbody>\n",
       "</table>\n"
      ],
      "text/latex": [
       "A data.frame: 6 × 7\n",
       "\\begin{tabular}{r|lllllll}\n",
       "  & Group.1 & GSM1599181 & GSM1599182 & GSM1599183 & GSM1599187 & GSM1599188 & GSM1599189\\\\\n",
       "  & <chr> & <dbl> & <dbl> & <dbl> & <dbl> & <dbl> & <dbl>\\\\\n",
       "\\hline\n",
       "\tA1BG-AS1 & A1BG-AS1 & -13.812500 & -3.020833 & -3.770833 & -4.0208335 & -2.1875000 & -2.937500\\\\\n",
       "\tA1CF & A1CF     &   2.937500 &  4.062500 &  4.562500 & -0.6041667 & -0.7291667 &  7.354166\\\\\n",
       "\tA2M & A2M      &  -2.187500 & -0.062500 &  2.937500 &  2.9375000 & -5.2708335 &  0.687500\\\\\n",
       "\tA2ML1 & A2ML1    &   2.145833 & -6.145834 & -3.812500 & -2.1041667 & -5.0625000 & -3.020833\\\\\n",
       "\tA4GALT & A4GALT   &   1.229167 & -2.312500 & -5.562500 & -3.2708333 & -8.8125000 & -4.104166\\\\\n",
       "\tA4GNT & A4GNT    &   8.020833 & 12.937500 &  4.562500 &  8.1041670 &  8.1458330 & 17.937500\\\\\n",
       "\\end{tabular}\n"
      ],
      "text/markdown": [
       "\n",
       "A data.frame: 6 × 7\n",
       "\n",
       "| <!--/--> | Group.1 &lt;chr&gt; | GSM1599181 &lt;dbl&gt; | GSM1599182 &lt;dbl&gt; | GSM1599183 &lt;dbl&gt; | GSM1599187 &lt;dbl&gt; | GSM1599188 &lt;dbl&gt; | GSM1599189 &lt;dbl&gt; |\n",
       "|---|---|---|---|---|---|---|---|\n",
       "| A1BG-AS1 | A1BG-AS1 | -13.812500 | -3.020833 | -3.770833 | -4.0208335 | -2.1875000 | -2.937500 |\n",
       "| A1CF | A1CF     |   2.937500 |  4.062500 |  4.562500 | -0.6041667 | -0.7291667 |  7.354166 |\n",
       "| A2M | A2M      |  -2.187500 | -0.062500 |  2.937500 |  2.9375000 | -5.2708335 |  0.687500 |\n",
       "| A2ML1 | A2ML1    |   2.145833 | -6.145834 | -3.812500 | -2.1041667 | -5.0625000 | -3.020833 |\n",
       "| A4GALT | A4GALT   |   1.229167 | -2.312500 | -5.562500 | -3.2708333 | -8.8125000 | -4.104166 |\n",
       "| A4GNT | A4GNT    |   8.020833 | 12.937500 |  4.562500 |  8.1041670 |  8.1458330 | 17.937500 |\n",
       "\n"
      ],
      "text/plain": [
       "         Group.1  GSM1599181 GSM1599182 GSM1599183 GSM1599187 GSM1599188\n",
       "A1BG-AS1 A1BG-AS1 -13.812500 -3.020833  -3.770833  -4.0208335 -2.1875000\n",
       "A1CF     A1CF       2.937500  4.062500   4.562500  -0.6041667 -0.7291667\n",
       "A2M      A2M       -2.187500 -0.062500   2.937500   2.9375000 -5.2708335\n",
       "A2ML1    A2ML1      2.145833 -6.145834  -3.812500  -2.1041667 -5.0625000\n",
       "A4GALT   A4GALT     1.229167 -2.312500  -5.562500  -3.2708333 -8.8125000\n",
       "A4GNT    A4GNT      8.020833 12.937500   4.562500   8.1041670  8.1458330\n",
       "         GSM1599189\n",
       "A1BG-AS1 -2.937500 \n",
       "A1CF      7.354166 \n",
       "A2M       0.687500 \n",
       "A2ML1    -3.020833 \n",
       "A4GALT   -4.104166 \n",
       "A4GNT    17.937500 "
      ]
     },
     "metadata": {},
     "output_type": "display_data"
    },
    {
     "data": {
      "text/html": [
       "<table>\n",
       "<caption>A data.frame: 6 × 1</caption>\n",
       "<thead>\n",
       "\t<tr><th></th><th scope=col>1</th></tr>\n",
       "\t<tr><th></th><th scope=col>&lt;fct&gt;</th></tr>\n",
       "</thead>\n",
       "<tbody>\n",
       "\t<tr><th scope=row>GSM389703</th><td>RA     </td></tr>\n",
       "\t<tr><th scope=row>GSM389704</th><td>RA     </td></tr>\n",
       "\t<tr><th scope=row>GSM389705</th><td>Healthy</td></tr>\n",
       "\t<tr><th scope=row>GSM389706</th><td>RA     </td></tr>\n",
       "\t<tr><th scope=row>GSM389707</th><td>Healthy</td></tr>\n",
       "\t<tr><th scope=row>GSM389708</th><td>RA     </td></tr>\n",
       "</tbody>\n",
       "</table>\n"
      ],
      "text/latex": [
       "A data.frame: 6 × 1\n",
       "\\begin{tabular}{r|l}\n",
       "  & 1\\\\\n",
       "  & <fct>\\\\\n",
       "\\hline\n",
       "\tGSM389703 & RA     \\\\\n",
       "\tGSM389704 & RA     \\\\\n",
       "\tGSM389705 & Healthy\\\\\n",
       "\tGSM389706 & RA     \\\\\n",
       "\tGSM389707 & Healthy\\\\\n",
       "\tGSM389708 & RA     \\\\\n",
       "\\end{tabular}\n"
      ],
      "text/markdown": [
       "\n",
       "A data.frame: 6 × 1\n",
       "\n",
       "| <!--/--> | 1 &lt;fct&gt; |\n",
       "|---|---|\n",
       "| GSM389703 | RA      |\n",
       "| GSM389704 | RA      |\n",
       "| GSM389705 | Healthy |\n",
       "| GSM389706 | RA      |\n",
       "| GSM389707 | Healthy |\n",
       "| GSM389708 | RA      |\n",
       "\n"
      ],
      "text/plain": [
       "          1      \n",
       "GSM389703 RA     \n",
       "GSM389704 RA     \n",
       "GSM389705 Healthy\n",
       "GSM389706 RA     \n",
       "GSM389707 Healthy\n",
       "GSM389708 RA     "
      ]
     },
     "metadata": {},
     "output_type": "display_data"
    }
   ],
   "source": [
    "head(datasets[[4]])\n",
    "head(dataset.class)"
   ]
  },
  {
   "cell_type": "markdown",
   "metadata": {},
   "source": [
    "# Meta-Analysis\n",
    "Used the MetaIntegrator package to run meta-analysis based on random-effect model. For each dataset, the expression values are quantile normalized and log2 transformed."
   ]
  },
  {
   "cell_type": "code",
   "execution_count": 55,
   "metadata": {},
   "outputs": [
    {
     "name": "stdout",
     "output_type": "stream",
     "text": [
      "List of 5\n",
      " $ pheno        :'data.frame':\t33 obs. of  1 variable:\n",
      " $ class        : Named num [1:33] 1 1 0 1 0 1 0 0 1 0 ...\n",
      "  ..- attr(*, \"names\")= chr [1:33] \"GSM389703\" \"GSM389704\" \"GSM389705\" \"GSM389706\" ...\n",
      " $ keys         : Named chr [1:18205] \"A1CF\" \"A2M\" \"A2ML1\" \"A4GALT\" ...\n",
      "  ..- attr(*, \"names\")= chr [1:18205] \"A1CF\" \"A2M\" \"A2ML1\" \"A4GALT\" ...\n",
      " $ formattedName: chr \"Study.1\"\n",
      " $ expr         : num [1:18205, 1:33] 7.35 7.25 7.71 7.44 7.63 ...\n",
      "  ..- attr(*, \"dimnames\")=List of 2\n",
      "List of 5\n",
      " $ pheno        :'data.frame':\t19 obs. of  1 variable:\n",
      " $ class        : Named num [1:19] 0 0 0 0 0 0 0 0 0 0 ...\n",
      "  ..- attr(*, \"names\")= chr [1:19] \"GSM484368\" \"GSM484369\" \"GSM484370\" \"GSM484371\" ...\n",
      " $ keys         : Named chr [1:18205] \"A1CF\" \"A2M\" \"A2ML1\" \"A4GALT\" ...\n",
      "  ..- attr(*, \"names\")= chr [1:18205] \"A1CF\" \"A2M\" \"A2ML1\" \"A4GALT\" ...\n",
      " $ formattedName: chr \"Study.2\"\n",
      " $ expr         : num [1:18205, 1:19] 4.52 4.22 4.46 4.4 4.19 ...\n",
      "  ..- attr(*, \"dimnames\")=List of 2\n",
      "List of 5\n",
      " $ pheno        :'data.frame':\t34 obs. of  1 variable:\n",
      " $ class        : Named num [1:34] 1 1 1 1 0 0 1 1 1 1 ...\n",
      "  ..- attr(*, \"names\")= chr [1:34] \"GSM484595\" \"GSM484596\" \"GSM484597\" \"GSM484598\" ...\n",
      " $ keys         : Named chr [1:18205] \"A1CF\" \"A2M\" \"A2ML1\" \"A4GALT\" ...\n",
      "  ..- attr(*, \"names\")= chr [1:18205] \"A1CF\" \"A2M\" \"A2ML1\" \"A4GALT\" ...\n",
      " $ formattedName: chr \"Study.3\"\n",
      " $ expr         : num [1:18205, 1:34] 4.64 4.09 4.46 4.59 5.07 ...\n",
      "  ..- attr(*, \"dimnames\")=List of 2\n",
      "List of 5\n",
      " $ pheno        :'data.frame':\t6 obs. of  1 variable:\n",
      " $ class        : Named num [1:6] 0 0 0 1 1 1\n",
      "  ..- attr(*, \"names\")= chr [1:6] \"GSM1599181\" \"GSM1599182\" \"GSM1599183\" \"GSM1599187\" ...\n",
      " $ keys         : Named chr [1:18205] \"A1CF\" \"A2M\" \"A2ML1\" \"A4GALT\" ...\n",
      "  ..- attr(*, \"names\")= chr [1:18205] \"A1CF\" \"A2M\" \"A2ML1\" \"A4GALT\" ...\n",
      " $ formattedName: chr \"Study.4\"\n",
      " $ expr         : num [1:18205, 1:6] 4.66 4.32 4.61 4.55 4.94 ...\n",
      "  ..- attr(*, \"dimnames\")=List of 2\n",
      "List of 5\n",
      " $ pheno        :'data.frame':\t34 obs. of  1 variable:\n",
      " $ class        : Named num [1:34] 0 0 0 0 0 0 0 0 0 0 ...\n",
      "  ..- attr(*, \"names\")= chr [1:34] \"GSM101869\" \"GSM101870\" \"GSM101871\" \"GSM101872\" ...\n",
      " $ keys         : Named chr [1:18205] \"A1CF\" \"A2M\" \"A2ML1\" \"A4GALT\" ...\n",
      "  ..- attr(*, \"names\")= chr [1:18205] \"A1CF\" \"A2M\" \"A2ML1\" \"A4GALT\" ...\n",
      " $ formattedName: chr \"Study.5\"\n",
      " $ expr         : num [1:18205, 1:34] 5.23 4.96 4.62 4.9 5.29 ...\n",
      "  ..- attr(*, \"dimnames\")=List of 2\n",
      "List of 5\n",
      " $ pheno        :'data.frame':\t15 obs. of  1 variable:\n",
      " $ class        : Named num [1:15] 1 1 1 1 1 1 1 1 1 0 ...\n",
      "  ..- attr(*, \"names\")= chr [1:15] \"GSM1327526\" \"GSM1327527\" \"GSM1327528\" \"GSM1327529\" ...\n",
      " $ keys         : Named chr [1:18205] \"A1CF\" \"A2M\" \"A2ML1\" \"A4GALT\" ...\n",
      "  ..- attr(*, \"names\")= chr [1:18205] \"A1CF\" \"A2M\" \"A2ML1\" \"A4GALT\" ...\n",
      " $ formattedName: chr \"Study.6\"\n",
      " $ expr         : num [1:18205, 1:15] 4.76 4.81 4.69 4.75 4.83 ...\n",
      "  ..- attr(*, \"dimnames\")=List of 2\n",
      "Found common probes in 2 \n",
      "Found common probes in 3 \n",
      "Found common probes in 4 \n",
      "Found common probes in 5 \n",
      "Found common probes in 6 \n",
      "Computing effect sizes...\n",
      "Computing summary effect sizes...\n",
      "Computing Fisher's output...Found common probes in 2 \n",
      "Found common probes in 3 \n",
      "Found common probes in 4 \n",
      "Found common probes in 5 \n",
      "Computing effect sizes...\n",
      "Computing summary effect sizes...\n",
      "Computing Fisher's output...Found common probes in 2 \n",
      "Found common probes in 3 \n",
      "Found common probes in 4 \n",
      "Found common probes in 5 \n",
      "Computing effect sizes...\n",
      "Computing summary effect sizes...\n",
      "Computing Fisher's output...Found common probes in 2 \n",
      "Found common probes in 3 \n",
      "Found common probes in 4 \n",
      "Found common probes in 5 \n",
      "Computing effect sizes...\n",
      "Computing summary effect sizes...\n",
      "Computing Fisher's output...Found common probes in 2 \n",
      "Found common probes in 3 \n",
      "Found common probes in 4 \n",
      "Found common probes in 5 \n",
      "Computing effect sizes...\n",
      "Computing summary effect sizes...\n",
      "Computing Fisher's output...Found common probes in 2 \n",
      "Found common probes in 3 \n",
      "Found common probes in 4 \n",
      "Found common probes in 5 \n",
      "Computing effect sizes...\n",
      "Computing summary effect sizes...\n",
      "Computing Fisher's output...Found common probes in 2 \n",
      "Found common probes in 3 \n",
      "Found common probes in 4 \n",
      "Found common probes in 5 \n",
      "Computing effect sizes...\n",
      "Computing summary effect sizes...\n",
      "Computing Fisher's output..."
     ]
    },
    {
     "data": {
      "image/png": "[encoded data removed]",
      "text/plain": [
       "plot without title"
      ]
     },
     "metadata": {},
     "output_type": "display_data"
    }
   ],
   "source": [
    "library(\"MetaIntegrator\")\n",
    "metaSet <- list()\n",
    "# use the min expr across studies as offset for log2 transformation\n",
    "min.expr <- min(unlist(lapply(datasets,function(x){min(x[common.genes,-1])})))\n",
    "#print(min.expr)\n",
    "for (i in 1:length(datasets)) {\n",
    "    dataset <- datasets[[i]][common.genes,-1]\n",
    "    # create data object\n",
    "    dataObj <- list()\n",
    "    dataObj$pheno <- data.frame(names=colnames(dataset),row.names = colnames(dataset))\n",
    "    dataObj.class <- setNames(rep(0,ncol(dataset)),colnames(dataset))\n",
    "    dataObj.class[as.character(dataset.class[colnames(dataset),1])!=\"Healthy\"] <- 1\n",
    "    dataObj$class <- dataObj.class\n",
    "    dataObj$keys <- setNames(rownames(dataset),rownames(dataset))\n",
    "    dataObj$formattedName <- paste0(\"Study.\",i)\n",
    "    expr <- as.matrix(dataset)\n",
    "    # quantile normalization\n",
    "    expr <- preprocessCore::normalize.quantiles(expr)\n",
    "    rownames(expr) <- rownames(dataset)\n",
    "    colnames(expr) <- colnames(dataset)\n",
    "    # log2 transformation\n",
    "    #print(min(expr))\n",
    "    dataObj$expr <- log2(expr+abs(min.expr))\n",
    "    #print(dim(dataObj$expr))\n",
    "    if (checkDataObject(dataObj,\"Dataset\")) {\n",
    "      metaSet[[i]] <- dataObj\n",
    "      names(metaSet)[i] <- dataObj$formattedName\n",
    "      str(metaSet[[i]], max.level = 1)  \n",
    "    }\n",
    "}\n",
    "metaObj <- list(originalData = metaSet)\n",
    "# run meta-analysis\n",
    "metaObj <- runMetaAnalysis(metaObj,maxCores = 1)\n",
    "\n"
   ]
  },
  {
   "cell_type": "code",
   "execution_count": 64,
   "metadata": {},
   "outputs": [
    {
     "name": "stdout",
     "output_type": "stream",
     "text": [
      "Number of genes with effect size FDR < 1%: 312 \n"
     ]
    },
    {
     "data": {
      "text/html": [
       "<table>\n",
       "<caption>A data.frame: 10 × 14</caption>\n",
       "<thead>\n",
       "\t<tr><th></th><th scope=col>effectSize</th><th scope=col>effectSizeStandardError</th><th scope=col>effectSizePval</th><th scope=col>effectSizeFDR</th><th scope=col>tauSquared</th><th scope=col>numStudies</th><th scope=col>cochranesQ</th><th scope=col>heterogeneityPval</th><th scope=col>fisherStatUp</th><th scope=col>fisherPvalUp</th><th scope=col>fisherFDRUp</th><th scope=col>fisherStatDown</th><th scope=col>fisherPvalDown</th><th scope=col>fisherFDRDown</th></tr>\n",
       "\t<tr><th></th><th scope=col>&lt;dbl&gt;</th><th scope=col>&lt;dbl&gt;</th><th scope=col>&lt;dbl&gt;</th><th scope=col>&lt;dbl&gt;</th><th scope=col>&lt;dbl&gt;</th><th scope=col>&lt;dbl&gt;</th><th scope=col>&lt;dbl&gt;</th><th scope=col>&lt;dbl&gt;</th><th scope=col>&lt;dbl&gt;</th><th scope=col>&lt;dbl&gt;</th><th scope=col>&lt;dbl&gt;</th><th scope=col>&lt;dbl&gt;</th><th scope=col>&lt;dbl&gt;</th><th scope=col>&lt;dbl&gt;</th></tr>\n",
       "</thead>\n",
       "<tbody>\n",
       "\t<tr><th scope=row>DDX24</th><td>-1.502206</td><td>0.2002638</td><td>6.326662e-14</td><td>1.151769e-09</td><td>0.0000000</td><td>6</td><td>3.576361</td><td>0.6118660</td><td>  0.10925272</td><td>1.000000e+00</td><td>1.000000e+00</td><td>91.18825927</td><td>2.905905e-14</td><td>1.758618e-11</td></tr>\n",
       "\t<tr><th scope=row>TLR5</th><td> 1.437996</td><td>0.1976258</td><td>3.429542e-13</td><td>3.121740e-09</td><td>0.0000000</td><td>6</td><td>1.356191</td><td>0.9290449</td><td> 85.48952451</td><td>3.664434e-13</td><td>6.753247e-11</td><td> 0.07650714</td><td>1.000000e+00</td><td>1.000000e+00</td></tr>\n",
       "\t<tr><th scope=row>MEPCE</th><td>-1.382137</td><td>0.1965761</td><td>2.049844e-12</td><td>1.243914e-08</td><td>0.0000000</td><td>6</td><td>4.079675</td><td>0.5380027</td><td>  0.18974865</td><td>1.000000e+00</td><td>1.000000e+00</td><td>84.22729978</td><td>6.406350e-13</td><td>1.690255e-10</td></tr>\n",
       "\t<tr><th scope=row>MEF2D</th><td>-1.321840</td><td>0.1947555</td><td>1.143479e-11</td><td>5.204259e-08</td><td>0.0000000</td><td>6</td><td>3.410428</td><td>0.6369822</td><td>  0.07601953</td><td>1.000000e+00</td><td>1.000000e+00</td><td>79.68445225</td><td>4.740634e-12</td><td>8.298389e-10</td></tr>\n",
       "\t<tr><th scope=row>CCR2</th><td> 1.281868</td><td>0.1929276</td><td>3.046687e-11</td><td>1.109299e-07</td><td>0.0000000</td><td>6</td><td>4.086011</td><td>0.5371002</td><td> 76.22575986</td><td>2.153707e-11</td><td>2.154299e-09</td><td> 0.43828362</td><td>9.999999e-01</td><td>1.000000e+00</td></tr>\n",
       "\t<tr><th scope=row>TNFSF10</th><td> 1.934504</td><td>0.2957805</td><td>6.137999e-11</td><td>1.862371e-07</td><td>0.1904127</td><td>6</td><td>8.170639</td><td>0.1470788</td><td>120.68742635</td><td>4.507325e-20</td><td>1.367598e-16</td><td> 0.04079610</td><td>1.000000e+00</td><td>1.000000e+00</td></tr>\n",
       "\t<tr><th scope=row>CDKN2AIP</th><td>-1.210190</td><td>0.1904912</td><td>2.111560e-10</td><td>5.491564e-07</td><td>0.0000000</td><td>6</td><td>3.855119</td><td>0.5704583</td><td>  1.11939525</td><td>9.999735e-01</td><td>1.000000e+00</td><td>70.41657789</td><td>2.676618e-10</td><td>2.331475e-08</td></tr>\n",
       "\t<tr><th scope=row>NOP53</th><td>-1.194680</td><td>0.1907075</td><td>3.741071e-10</td><td>8.513275e-07</td><td>0.0000000</td><td>6</td><td>4.617482</td><td>0.4643203</td><td>  0.43695664</td><td>9.999999e-01</td><td>1.000000e+00</td><td>71.57288095</td><td>1.624746e-10</td><td>1.509107e-08</td></tr>\n",
       "\t<tr><th scope=row>KIAA0319L</th><td> 1.178909</td><td>0.1899144</td><td>5.380722e-10</td><td>1.088401e-06</td><td>0.0000000</td><td>6</td><td>2.459626</td><td>0.7825628</td><td> 67.97199366</td><td>7.657857e-10</td><td>4.678231e-08</td><td> 0.21565870</td><td>1.000000e+00</td><td>1.000000e+00</td></tr>\n",
       "\t<tr><th scope=row>TENT4A</th><td>-1.166018</td><td>0.1891445</td><td>7.061849e-10</td><td>1.285610e-06</td><td>0.0000000</td><td>6</td><td>1.952524</td><td>0.8556745</td><td>  0.32887198</td><td>1.000000e+00</td><td>1.000000e+00</td><td>65.84891490</td><td>1.898742e-09</td><td>1.111466e-07</td></tr>\n",
       "</tbody>\n",
       "</table>\n"
      ],
      "text/latex": [
       "A data.frame: 10 × 14\n",
       "\\begin{tabular}{r|llllllllllllll}\n",
       "  & effectSize & effectSizeStandardError & effectSizePval & effectSizeFDR & tauSquared & numStudies & cochranesQ & heterogeneityPval & fisherStatUp & fisherPvalUp & fisherFDRUp & fisherStatDown & fisherPvalDown & fisherFDRDown\\\\\n",
       "  & <dbl> & <dbl> & <dbl> & <dbl> & <dbl> & <dbl> & <dbl> & <dbl> & <dbl> & <dbl> & <dbl> & <dbl> & <dbl> & <dbl>\\\\\n",
       "\\hline\n",
       "\tDDX24 & -1.502206 & 0.2002638 & 6.326662e-14 & 1.151769e-09 & 0.0000000 & 6 & 3.576361 & 0.6118660 &   0.10925272 & 1.000000e+00 & 1.000000e+00 & 91.18825927 & 2.905905e-14 & 1.758618e-11\\\\\n",
       "\tTLR5 &  1.437996 & 0.1976258 & 3.429542e-13 & 3.121740e-09 & 0.0000000 & 6 & 1.356191 & 0.9290449 &  85.48952451 & 3.664434e-13 & 6.753247e-11 &  0.07650714 & 1.000000e+00 & 1.000000e+00\\\\\n",
       "\tMEPCE & -1.382137 & 0.1965761 & 2.049844e-12 & 1.243914e-08 & 0.0000000 & 6 & 4.079675 & 0.5380027 &   0.18974865 & 1.000000e+00 & 1.000000e+00 & 84.22729978 & 6.406350e-13 & 1.690255e-10\\\\\n",
       "\tMEF2D & -1.321840 & 0.1947555 & 1.143479e-11 & 5.204259e-08 & 0.0000000 & 6 & 3.410428 & 0.6369822 &   0.07601953 & 1.000000e+00 & 1.000000e+00 & 79.68445225 & 4.740634e-12 & 8.298389e-10\\\\\n",
       "\tCCR2 &  1.281868 & 0.1929276 & 3.046687e-11 & 1.109299e-07 & 0.0000000 & 6 & 4.086011 & 0.5371002 &  76.22575986 & 2.153707e-11 & 2.154299e-09 &  0.43828362 & 9.999999e-01 & 1.000000e+00\\\\\n",
       "\tTNFSF10 &  1.934504 & 0.2957805 & 6.137999e-11 & 1.862371e-07 & 0.1904127 & 6 & 8.170639 & 0.1470788 & 120.68742635 & 4.507325e-20 & 1.367598e-16 &  0.04079610 & 1.000000e+00 & 1.000000e+00\\\\\n",
       "\tCDKN2AIP & -1.210190 & 0.1904912 & 2.111560e-10 & 5.491564e-07 & 0.0000000 & 6 & 3.855119 & 0.5704583 &   1.11939525 & 9.999735e-01 & 1.000000e+00 & 70.41657789 & 2.676618e-10 & 2.331475e-08\\\\\n",
       "\tNOP53 & -1.194680 & 0.1907075 & 3.741071e-10 & 8.513275e-07 & 0.0000000 & 6 & 4.617482 & 0.4643203 &   0.43695664 & 9.999999e-01 & 1.000000e+00 & 71.57288095 & 1.624746e-10 & 1.509107e-08\\\\\n",
       "\tKIAA0319L &  1.178909 & 0.1899144 & 5.380722e-10 & 1.088401e-06 & 0.0000000 & 6 & 2.459626 & 0.7825628 &  67.97199366 & 7.657857e-10 & 4.678231e-08 &  0.21565870 & 1.000000e+00 & 1.000000e+00\\\\\n",
       "\tTENT4A & -1.166018 & 0.1891445 & 7.061849e-10 & 1.285610e-06 & 0.0000000 & 6 & 1.952524 & 0.8556745 &   0.32887198 & 1.000000e+00 & 1.000000e+00 & 65.84891490 & 1.898742e-09 & 1.111466e-07\\\\\n",
       "\\end{tabular}\n"
      ],
      "text/markdown": [
       "\n",
       "A data.frame: 10 × 14\n",
       "\n",
       "| <!--/--> | effectSize &lt;dbl&gt; | effectSizeStandardError &lt;dbl&gt; | effectSizePval &lt;dbl&gt; | effectSizeFDR &lt;dbl&gt; | tauSquared &lt;dbl&gt; | numStudies &lt;dbl&gt; | cochranesQ &lt;dbl&gt; | heterogeneityPval &lt;dbl&gt; | fisherStatUp &lt;dbl&gt; | fisherPvalUp &lt;dbl&gt; | fisherFDRUp &lt;dbl&gt; | fisherStatDown &lt;dbl&gt; | fisherPvalDown &lt;dbl&gt; | fisherFDRDown &lt;dbl&gt; |\n",
       "|---|---|---|---|---|---|---|---|---|---|---|---|---|---|---|\n",
       "| DDX24 | -1.502206 | 0.2002638 | 6.326662e-14 | 1.151769e-09 | 0.0000000 | 6 | 3.576361 | 0.6118660 |   0.10925272 | 1.000000e+00 | 1.000000e+00 | 91.18825927 | 2.905905e-14 | 1.758618e-11 |\n",
       "| TLR5 |  1.437996 | 0.1976258 | 3.429542e-13 | 3.121740e-09 | 0.0000000 | 6 | 1.356191 | 0.9290449 |  85.48952451 | 3.664434e-13 | 6.753247e-11 |  0.07650714 | 1.000000e+00 | 1.000000e+00 |\n",
       "| MEPCE | -1.382137 | 0.1965761 | 2.049844e-12 | 1.243914e-08 | 0.0000000 | 6 | 4.079675 | 0.5380027 |   0.18974865 | 1.000000e+00 | 1.000000e+00 | 84.22729978 | 6.406350e-13 | 1.690255e-10 |\n",
       "| MEF2D | -1.321840 | 0.1947555 | 1.143479e-11 | 5.204259e-08 | 0.0000000 | 6 | 3.410428 | 0.6369822 |   0.07601953 | 1.000000e+00 | 1.000000e+00 | 79.68445225 | 4.740634e-12 | 8.298389e-10 |\n",
       "| CCR2 |  1.281868 | 0.1929276 | 3.046687e-11 | 1.109299e-07 | 0.0000000 | 6 | 4.086011 | 0.5371002 |  76.22575986 | 2.153707e-11 | 2.154299e-09 |  0.43828362 | 9.999999e-01 | 1.000000e+00 |\n",
       "| TNFSF10 |  1.934504 | 0.2957805 | 6.137999e-11 | 1.862371e-07 | 0.1904127 | 6 | 8.170639 | 0.1470788 | 120.68742635 | 4.507325e-20 | 1.367598e-16 |  0.04079610 | 1.000000e+00 | 1.000000e+00 |\n",
       "| CDKN2AIP | -1.210190 | 0.1904912 | 2.111560e-10 | 5.491564e-07 | 0.0000000 | 6 | 3.855119 | 0.5704583 |   1.11939525 | 9.999735e-01 | 1.000000e+00 | 70.41657789 | 2.676618e-10 | 2.331475e-08 |\n",
       "| NOP53 | -1.194680 | 0.1907075 | 3.741071e-10 | 8.513275e-07 | 0.0000000 | 6 | 4.617482 | 0.4643203 |   0.43695664 | 9.999999e-01 | 1.000000e+00 | 71.57288095 | 1.624746e-10 | 1.509107e-08 |\n",
       "| KIAA0319L |  1.178909 | 0.1899144 | 5.380722e-10 | 1.088401e-06 | 0.0000000 | 6 | 2.459626 | 0.7825628 |  67.97199366 | 7.657857e-10 | 4.678231e-08 |  0.21565870 | 1.000000e+00 | 1.000000e+00 |\n",
       "| TENT4A | -1.166018 | 0.1891445 | 7.061849e-10 | 1.285610e-06 | 0.0000000 | 6 | 1.952524 | 0.8556745 |   0.32887198 | 1.000000e+00 | 1.000000e+00 | 65.84891490 | 1.898742e-09 | 1.111466e-07 |\n",
       "\n"
      ],
      "text/plain": [
       "          effectSize effectSizeStandardError effectSizePval effectSizeFDR\n",
       "DDX24     -1.502206  0.2002638               6.326662e-14   1.151769e-09 \n",
       "TLR5       1.437996  0.1976258               3.429542e-13   3.121740e-09 \n",
       "MEPCE     -1.382137  0.1965761               2.049844e-12   1.243914e-08 \n",
       "MEF2D     -1.321840  0.1947555               1.143479e-11   5.204259e-08 \n",
       "CCR2       1.281868  0.1929276               3.046687e-11   1.109299e-07 \n",
       "TNFSF10    1.934504  0.2957805               6.137999e-11   1.862371e-07 \n",
       "CDKN2AIP  -1.210190  0.1904912               2.111560e-10   5.491564e-07 \n",
       "NOP53     -1.194680  0.1907075               3.741071e-10   8.513275e-07 \n",
       "KIAA0319L  1.178909  0.1899144               5.380722e-10   1.088401e-06 \n",
       "TENT4A    -1.166018  0.1891445               7.061849e-10   1.285610e-06 \n",
       "          tauSquared numStudies cochranesQ heterogeneityPval fisherStatUp\n",
       "DDX24     0.0000000  6          3.576361   0.6118660           0.10925272\n",
       "TLR5      0.0000000  6          1.356191   0.9290449          85.48952451\n",
       "MEPCE     0.0000000  6          4.079675   0.5380027           0.18974865\n",
       "MEF2D     0.0000000  6          3.410428   0.6369822           0.07601953\n",
       "CCR2      0.0000000  6          4.086011   0.5371002          76.22575986\n",
       "TNFSF10   0.1904127  6          8.170639   0.1470788         120.68742635\n",
       "CDKN2AIP  0.0000000  6          3.855119   0.5704583           1.11939525\n",
       "NOP53     0.0000000  6          4.617482   0.4643203           0.43695664\n",
       "KIAA0319L 0.0000000  6          2.459626   0.7825628          67.97199366\n",
       "TENT4A    0.0000000  6          1.952524   0.8556745           0.32887198\n",
       "          fisherPvalUp fisherFDRUp  fisherStatDown fisherPvalDown fisherFDRDown\n",
       "DDX24     1.000000e+00 1.000000e+00 91.18825927    2.905905e-14   1.758618e-11 \n",
       "TLR5      3.664434e-13 6.753247e-11  0.07650714    1.000000e+00   1.000000e+00 \n",
       "MEPCE     1.000000e+00 1.000000e+00 84.22729978    6.406350e-13   1.690255e-10 \n",
       "MEF2D     1.000000e+00 1.000000e+00 79.68445225    4.740634e-12   8.298389e-10 \n",
       "CCR2      2.153707e-11 2.154299e-09  0.43828362    9.999999e-01   1.000000e+00 \n",
       "TNFSF10   4.507325e-20 1.367598e-16  0.04079610    1.000000e+00   1.000000e+00 \n",
       "CDKN2AIP  9.999735e-01 1.000000e+00 70.41657789    2.676618e-10   2.331475e-08 \n",
       "NOP53     9.999999e-01 1.000000e+00 71.57288095    1.624746e-10   1.509107e-08 \n",
       "KIAA0319L 7.657857e-10 4.678231e-08  0.21565870    1.000000e+00   1.000000e+00 \n",
       "TENT4A    1.000000e+00 1.000000e+00 65.84891490    1.898742e-09   1.111466e-07 "
      ]
     },
     "metadata": {},
     "output_type": "display_data"
    }
   ],
   "source": [
    "res <- metaObj$metaAnalysis$pooledResults\n",
    "res <- res[order(abs(res$effectSizeFDR),decreasing = F),]\n",
    "cat(\"Number of genes with effect size FDR < 1%:\",sum(res$effectSizeFDR < 0.01),\"\\n\")\n",
    "head(res,10)"
   ]
  },
  {
   "cell_type": "code",
   "execution_count": null,
   "metadata": {},
   "outputs": [],
   "source": []
  }
 ],
 "metadata": {
  "kernelspec": {
   "display_name": "R",
   "language": "R",
   "name": "ir"
  },
  "language_info": {
   "codemirror_mode": "r",
   "file_extension": ".r",
   "mimetype": "text/x-r-source",
   "name": "R",
   "pygments_lexer": "r",
   "version": "3.6.0"
  }
 },
 "nbformat": 4,
 "nbformat_minor": 2
}
